{
 "cells": [
  {
   "cell_type": "code",
   "execution_count": 22,
   "id": "69547cd9",
   "metadata": {},
   "outputs": [],
   "source": [
    "# 17\n",
    "def get_even(list):\n",
    "    even=[]\n",
    "    for i in list:\n",
    "        if i %2==0:\n",
    "            even.append(i)\n",
    "    if len(even) > 0:\n",
    "        return even\n",
    "    else:\n",
    "        return (\"not available\")\n",
    "        "
   ]
  },
  {
   "cell_type": "code",
   "execution_count": 23,
   "id": "008e705b",
   "metadata": {},
   "outputs": [],
   "source": [
    "listt=[1,5,8,9,6,2]\n",
    "is_even=get_even(listt)"
   ]
  },
  {
   "cell_type": "code",
   "execution_count": 24,
   "id": "680c30ef",
   "metadata": {},
   "outputs": [
    {
     "data": {
      "text/plain": [
       "[8, 6, 2]"
      ]
     },
     "execution_count": 24,
     "metadata": {},
     "output_type": "execute_result"
    }
   ],
   "source": [
    "is_even"
   ]
  },
  {
   "cell_type": "code",
   "execution_count": 31,
   "id": "124c15bb",
   "metadata": {},
   "outputs": [
    {
     "name": "stdout",
     "output_type": "stream",
     "text": [
      "Execution time: 0.00000 seconds\n"
     ]
    }
   ],
   "source": [
    "# 18\n",
    "import time\n",
    "\n",
    "def timer(func):\n",
    "    def wrapper(listt):\n",
    "        start_time = time.time()\n",
    "        result = func(listt)\n",
    "        end_time = time.time()\n",
    "        execution_time = end_time - start_time\n",
    "        print(f\"Execution time: {execution_time:.5f} seconds\")\n",
    "        return result\n",
    "    return wrapper\n",
    "\n",
    "@timer\n",
    "def get_even(listt):\n",
    "    even = []\n",
    "    for i in listt:\n",
    "        if i % 2 == 0:\n",
    "            even.append(i)\n",
    "    if len(even) > 0:\n",
    "        return even\n",
    "    else:\n",
    "        return \"not available\"\n",
    "\n",
    "result = get_even([1, 2, 3, 4, 5, 6, 7, 8, 9, 10])\n"
   ]
  },
  {
   "cell_type": "code",
   "execution_count": null,
   "id": "f5612081",
   "metadata": {},
   "outputs": [],
   "source": [
    "# 19\n",
    "def mean_cal(lists):\n",
    "    sum=0\n",
    "    for i in lists:\n",
    "        sum+=int(i)\n",
    "    return sum/len(lists)\n",
    "\n",
    "numbers_input = input(\"Enter a list of numbers, separated by spaces: \")\n",
    "numbers = [int(num) for num in numbers_input.split()]\n",
    "mean=mean_cal(numbers)\n",
    "print(\"mean is \",mean)"
   ]
  },
  {
   "cell_type": "code",
   "execution_count": null,
   "id": "e3a30ce4",
   "metadata": {},
   "outputs": [],
   "source": []
  }
 ],
 "metadata": {
  "kernelspec": {
   "display_name": "Python 3 (ipykernel)",
   "language": "python",
   "name": "python3"
  },
  "language_info": {
   "codemirror_mode": {
    "name": "ipython",
    "version": 3
   },
   "file_extension": ".py",
   "mimetype": "text/x-python",
   "name": "python",
   "nbconvert_exporter": "python",
   "pygments_lexer": "ipython3",
   "version": "3.10.9"
  }
 },
 "nbformat": 4,
 "nbformat_minor": 5
}
