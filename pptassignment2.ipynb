{
 "cells": [
  {
   "cell_type": "code",
   "execution_count": 1,
   "id": "cfc6c30e",
   "metadata": {},
   "outputs": [],
   "source": [
    "\n",
    "\n",
    "\n",
    "# 12. Scenario: A company wants to analyze the click-through rates of two different website designs. The number of clicks for each design is as follows:\n",
    "#     Design A: [100, 120, 110, 90, 95]\n",
    "#     Design B: [80, 85, 90, 95, 100]\n",
    "#     Perform a chi-square test to determine if there is a significant difference in the click-through rates between the two designs.\n",
    "\n",
    "\n",
    "\n",
    "# 14. Scenario: A company wants to analyze the effect of temperature on product performance. The data collected is as follows:\n",
    "#     Temperature (in degrees Celsius): [20, 22, 23, 19, 21]\n",
    "#     Performance (on a scale of 1 to 10): [8, 7, 9, 6, 8]\n",
    "#     Perform a simple linear regression to predict performance based on temperature.\n",
    "\n",
    "# 15. Scenario: A study is conducted to compare the preferences of two groups of participants. The preferences are measured on a Likert scale from 1 to 5. The data collected is as follows:\n",
    "#     Group A: [4, 3, 5, 2, 4]\n",
    "#     Group B: [3, 2, 4, 3, 3]\n",
    "#     Perform a Mann-Whitney U test to determine if there is a significant difference in the median preferences between the two groups.\n",
    "\n",
    "\n",
    "\n",
    "# 17. Scenario: A study is conducted to compare the performance of three different machine learning algorithms. The accuracy scores for each algorithm are as follows:\n",
    "#     Algorithm A: [0.85, 0.80, 0.82, 0.87, 0.83]\n",
    "#     Algorithm B: [0.78, 0.82, 0.84, 0.80, 0.79]\n",
    "#     Algorithm C: [0.90, 0.88, 0.89, 0.86, 0.87]\n",
    "#     Perform a Kruskal-Wallis test to determine if there is a significant difference in the median accuracy scores between the algorithms.\n",
    "\n",
    "\n",
    "\n",
    "\n",
    "\n",
    "# 20. Scenario: A company wants to analyze the relationship between advertising expenditure and sales. The data collected is as follows:\n",
    "#     Advertising Expenditure (in thousands): [10, 15, 12, 8, 14]\n",
    "#     Sales (in thousands): [25, 30, 28, 20, 26]\n",
    "#     Perform a multiple regression analysis to predict sales based on advertising expenditure.\n"
   ]
  },
  {
   "cell_type": "code",
   "execution_count": 9,
   "id": "47d5c9b0",
   "metadata": {},
   "outputs": [
    {
     "name": "stdout",
     "output_type": "stream",
     "text": [
      "mean of region a is 11.8\n",
      "mean of region b is 20.2\n"
     ]
    }
   ],
   "source": [
    "# 1. Scenario: A company wants to analyze the sales performance of its products in different regions. They have collected the following data:\n",
    "#    Region A: [10, 15, 12, 8, 14]\n",
    "#    Region B: [18, 20, 16, 22, 25]\n",
    "#    Calculate the mean sales for each region.\n",
    "import numpy as np\n",
    "Region_A= [10, 15, 12, 8, 14]\n",
    "Region_B=[18, 20, 16, 22, 25]\n",
    "\n",
    "\n",
    "mean_region_a = np.mean(Region_A)\n",
    "mean_region_b = np.mean(Region_B)\n",
    "\n",
    "print(f\"mean of region a is {mean_region_a}\")\n",
    "print(f\"mean of region b is {mean_region_b}\")"
   ]
  },
  {
   "cell_type": "code",
   "execution_count": 15,
   "id": "071116ff",
   "metadata": {},
   "outputs": [
    {
     "data": {
      "text/plain": [
       "4"
      ]
     },
     "execution_count": 15,
     "metadata": {},
     "output_type": "execute_result"
    }
   ],
   "source": [
    "# 2. Scenario: A survey is conducted to measure customer satisfaction on a scale of 1 to 5. The data collected is as follows:\n",
    "#    [4, 5, 2, 3, 5, 4, 3, 2, 4, 5]\n",
    "\n",
    "#    Calculate the mode of the survey responses.\n",
    "from statistics import mode\n",
    "numbers=[4, 5, 2, 3, 5, 4, 3, 2, 4, 5]\n",
    "mode(numbers)"
   ]
  },
  {
   "cell_type": "code",
   "execution_count": 19,
   "id": "4827336d",
   "metadata": {},
   "outputs": [
    {
     "name": "stdout",
     "output_type": "stream",
     "text": [
      "5750.0\n",
      "5500.0\n"
     ]
    }
   ],
   "source": [
    "# 3. Scenario: A company wants to compare the salaries of two departments. \n",
    "# The salary data for Department A and Department B are as follows:\n",
    "#    Department A: [5000, 6000, 5500, 7000]\n",
    "#    Department B: [4500, 5500, 5800, 6000, 5200]\n",
    "#    Calculate the median salary for each department.\n",
    "\n",
    "Department_A= [5000, 6000, 5500, 7000]\n",
    "Department_B= [4500, 5500, 5800, 6000, 5200]\n",
    "a_median=np.median(Department_A)\n",
    "b_median=np.median(Department_B)\n",
    "print(a_median)\n",
    "print(b_median)"
   ]
  },
  {
   "cell_type": "code",
   "execution_count": 21,
   "id": "a9f673b7",
   "metadata": {},
   "outputs": [
    {
     "name": "stdout",
     "output_type": "stream",
     "text": [
      "Range of the stock prices: 1.3000000000000007\n"
     ]
    }
   ],
   "source": [
    "# 4. Scenario: A data analyst wants to determine the variability in the daily stock prices of a company.\n",
    "# The data collected is as follows:\n",
    "#    [25.5, 24.8, 26.1, 25.3, 24.9]\n",
    "#    Calculate the range of the stock prices.\n",
    "stock_prices = [25.5, 24.8, 26.1, 25.3, 24.9]\n",
    "price_range = max(stock_prices) - min(stock_prices)\n",
    "print(\"Range of the stock prices:\", price_range)\n",
    "\n"
   ]
  },
  {
   "cell_type": "code",
   "execution_count": 22,
   "id": "03cabd6a",
   "metadata": {},
   "outputs": [
    {
     "name": "stdout",
     "output_type": "stream",
     "text": [
      "There is no significant difference in the mean scores between the two groups.\n"
     ]
    }
   ],
   "source": [
    "# 5. Scenario: A study is conducted to compare the performance of two different teaching methods.\n",
    "# The test scores of the students in each group are as follows:\n",
    "#    Group A: [85, 90, 92, 88, 91]\n",
    "#    Group B: [82, 88, 90, 86, 87]\n",
    "#    Perform a t-test to determine if there is a significant difference in the mean scores between the two groups.\n",
    "\n",
    "from scipy.stats import ttest_ind\n",
    "\n",
    "group_a = [85, 90, 92, 88, 91]\n",
    "group_b = [82, 88, 90, 86, 87]\n",
    "\n",
    "t_statistic, p_value = ttest_ind(group_a, group_b)\n",
    "alpha = 0.05  # significance level\n",
    "\n",
    "if p_value < alpha:\n",
    "    print(\"There is a significant difference in the mean scores between the two groups.\")\n",
    "else:\n",
    "    print(\"There is no significant difference in the mean scores between the two groups.\")\n"
   ]
  },
  {
   "cell_type": "code",
   "execution_count": 24,
   "id": "288a771c",
   "metadata": {},
   "outputs": [
    {
     "data": {
      "text/plain": [
       "Ttest_indResult(statistic=1.4312528946642733, pvalue=0.19023970239078333)"
      ]
     },
     "execution_count": 24,
     "metadata": {},
     "output_type": "execute_result"
    }
   ],
   "source": [
    "ttest_ind(group_a, group_b)"
   ]
  },
  {
   "cell_type": "code",
   "execution_count": 25,
   "id": "2d835a81",
   "metadata": {},
   "outputs": [
    {
     "name": "stdout",
     "output_type": "stream",
     "text": [
      "Correlation coefficient: 0.8757511375750132\n"
     ]
    }
   ],
   "source": [
    "# 6. Scenario: A company wants to analyze the relationship between advertising expenditure and sales. \n",
    "# The data collected is as follows:\n",
    "#    Advertising Expenditure (in thousands): [10, 15, 12, 8, 14]\n",
    "#    Sales (in thousands): [25, 30, 28, 20, 26]\n",
    "#    Calculate the correlation coefficient between advertising expenditure and sales\n",
    "\n",
    "\n",
    "advertising_expenditure = [10, 15, 12, 8, 14]\n",
    "sales = [25, 30, 28, 20, 26]\n",
    "\n",
    "correlation_matrix = np.corrcoef(advertising_expenditure, sales)\n",
    "correlation_coefficient = correlation_matrix[0, 1]\n",
    "\n",
    "print(\"Correlation coefficient:\", correlation_coefficient)\n"
   ]
  },
  {
   "cell_type": "code",
   "execution_count": 26,
   "id": "176b5bb0",
   "metadata": {},
   "outputs": [
    {
     "name": "stdout",
     "output_type": "stream",
     "text": [
      "7.953949089757174\n"
     ]
    }
   ],
   "source": [
    "\n",
    "# 7. Scenario: A survey is conducted to measure the heights of a group of people. The data collected is as follows:\n",
    "#    [160, 170, 165, 155, 175, 180, 170]\n",
    "#    Calculate the standard deviation of the heights.\n",
    "\n",
    "heights = [160, 170, 165, 155, 175, 180, 170]\n",
    "standard_deviation = np.std(heights)\n",
    "\n",
    "print( standard_deviation)\n"
   ]
  },
  {
   "cell_type": "code",
   "execution_count": 27,
   "id": "e5058f47",
   "metadata": {},
   "outputs": [
    {
     "name": "stdout",
     "output_type": "stream",
     "text": [
      "Slope: -0.4680851063829787\n",
      "Intercept: 8.595744680851062\n",
      "R-squared value: 0.27099664053751393\n",
      "P-value: 0.23095550952297988\n",
      "Standard error: 0.34333860006713723\n"
     ]
    }
   ],
   "source": [
    "# 8. Scenario: A company wants to analyze the relationship between employee tenure and job satisfaction. The data collected is as follows:\n",
    "#    Employee Tenure (in years): [2, 3, 5, 4, 6, 2, 4]\n",
    "#    Job Satisfaction (on a scale of 1 to 10): [7, 8, 6, 9, 5, 7, 6]\n",
    "#    Perform a linear regression analysis to predict job satisfaction based on employee tenure.\n",
    "\n",
    "from scipy.stats import linregress\n",
    "\n",
    "employee_tenure = [2, 3, 5, 4, 6, 2, 4]\n",
    "job_satisfaction = [7, 8, 6, 9, 5, 7, 6]\n",
    "\n",
    "slope, intercept, r_value, p_value, std_err = linregress(employee_tenure, job_satisfaction)\n",
    "\n",
    "print(\"Slope:\", slope)\n",
    "print(\"Intercept:\", intercept)\n",
    "print(\"R-squared value:\", r_value**2)\n",
    "print(\"P-value:\", p_value)\n",
    "print(\"Standard error:\", std_err)\n"
   ]
  },
  {
   "cell_type": "code",
   "execution_count": 28,
   "id": "7e6e3148",
   "metadata": {},
   "outputs": [
    {
     "name": "stdout",
     "output_type": "stream",
     "text": [
      "There is a significant difference in the mean recovery times between the two medications.\n"
     ]
    },
    {
     "data": {
      "text/plain": [
       "F_onewayResult(statistic=16.0, pvalue=0.003949772803445326)"
      ]
     },
     "execution_count": 28,
     "metadata": {},
     "output_type": "execute_result"
    }
   ],
   "source": [
    "# 9. Scenario: A study is conducted to compare the effectiveness of two different medications. \n",
    "# The recovery times of the patients in each group are as follows:\n",
    "#    Medication A: [10, 12, 14, 11, 13]\n",
    "#    Medication B: [15, 17, 16, 14, 18]\n",
    "#    Perform an analysis of variance (ANOVA) to determine if there is a significant difference in the mean recovery \n",
    "# times between the two medications.\n",
    "from scipy.stats import f_oneway\n",
    "\n",
    "medication_a = [10, 12, 14, 11, 13]\n",
    "medication_b = [15, 17, 16, 14, 18]\n",
    "\n",
    "f_statistic, p_value = f_oneway(medication_a, medication_b)\n",
    "alpha = 0.05  # significance level\n",
    "\n",
    "if p_value < alpha:\n",
    "    print(\"There is a significant difference in the mean recovery times between the two medications.\")\n",
    "else:\n",
    "    print(\"There is no significant difference in the mean recovery times between the two medications.\")\n",
    "    \n",
    "f_oneway(medication_a, medication_b)\n"
   ]
  },
  {
   "cell_type": "code",
   "execution_count": 30,
   "id": "9b74fbcf",
   "metadata": {},
   "outputs": [
    {
     "name": "stdout",
     "output_type": "stream",
     "text": [
      "8.75\n"
     ]
    }
   ],
   "source": [
    "# 10. Scenario: A company wants to analyze customer feedback ratings on a scale of 1 to 10. The data collected is\n",
    "\n",
    "#  as follows:\n",
    "#     [8, 9, 7, 6, 8, 10, 9, 8, 7, 8]\n",
    "#     Calculate the 75th percentile of the feedback ratings.\n",
    "\n",
    "feedback_ratings = [8, 9, 7, 6, 8, 10, 9, 8, 7, 8]\n",
    "percentile_75 = np.percentile(feedback_ratings, 75)\n",
    "\n",
    "print(percentile_75)\n"
   ]
  },
  {
   "cell_type": "code",
   "execution_count": 31,
   "id": "23449a6b",
   "metadata": {},
   "outputs": [
    {
     "name": "stdout",
     "output_type": "stream",
     "text": [
      "The mean weight does not significantly differ from 10 grams.\n"
     ]
    }
   ],
   "source": [
    "# 11. Scenario: A quality control department wants to test the weight consistency of a product. The weights of a sample of products are as follows:\n",
    "#     [10.2, 9.8, 10.0, 10.5, 10.3, 10.1]\n",
    "#     Perform a hypothesis test to determine if the mean weight differs significantly from 10 grams.\n",
    "from scipy.stats import ttest_1samp\n",
    "\n",
    "weights = [10.2, 9.8, 10.0, 10.5, 10.3, 10.1]\n",
    "mean_weight = 10.0  # null hypothesis mean\n",
    "\n",
    "t_statistic, p_value = ttest_1samp(weights, mean_weight)\n",
    "alpha = 0.05  # significance level\n",
    "\n",
    "if p_value < alpha:\n",
    "    print(\"The mean weight significantly differs from 10 grams.\")\n",
    "else:\n",
    "    print(\"The mean weight does not significantly differ from 10 grams.\")\n"
   ]
  },
  {
   "cell_type": "code",
   "execution_count": 32,
   "id": "576cafa5",
   "metadata": {},
   "outputs": [
    {
     "name": "stdout",
     "output_type": "stream",
     "text": [
      "95% confidence interval: (7.087510739312016, 8.712489260687985)\n"
     ]
    }
   ],
   "source": [
    "# 13. Scenario: A survey is conducted to measure customer satisfaction with a product on a scale of 1 to 10. The data collected is as follows:\n",
    "#     [7, 9, 6, 8, 10, 7, 8, 9, 7, 8]\n",
    "#     Calculate the 95% confidence interval for the population mean satisfaction score\n",
    "from scipy.stats import t\n",
    "\n",
    "satisfaction_scores = [7, 9, 6, 8, 10, 7, 8, 9, 7, 8]\n",
    "confidence_level = 0.95  # 95% confidence level\n",
    "sample_mean = np.mean(satisfaction_scores)\n",
    "sample_std = np.std(satisfaction_scores)\n",
    "sample_size = len(satisfaction_scores)\n",
    "\n",
    "margin_of_error = t.ppf((1 + confidence_level) / 2, df=sample_size-1) * (sample_std / np.sqrt(sample_size))\n",
    "confidence_interval = (sample_mean - margin_of_error, sample_mean + margin_of_error)\n",
    "\n",
    "print(\"95% confidence interval:\", confidence_interval)\n"
   ]
  },
  {
   "cell_type": "code",
   "execution_count": 33,
   "id": "aa62ed1c",
   "metadata": {},
   "outputs": [
    {
     "name": "stdout",
     "output_type": "stream",
     "text": [
      "Slope: -3.506097560975609\n",
      "Intercept: 136.3719512195122\n",
      "R-squared value: 0.8064024390243901\n",
      "P-value: 0.03850178234753776\n",
      "Standard error: 0.9918303504036147\n"
     ]
    }
   ],
   "source": [
    "# 18. Scenario: A company wants to analyze the effect of price on sales. The data collected is as follows:\n",
    "#     Price (in dollars): [10, 15, 12, 8, 14]\n",
    "#     Sales: [100, 80, 90, 110, 95]\n",
    "#     Perform a simple linear regression to predict\n",
    "\n",
    "#  sales based on price.\n",
    "from scipy.stats import linregress\n",
    "\n",
    "price = [10, 15, 12, 8, 14]\n",
    "sales = [100, 80, 90, 110, 95]\n",
    "\n",
    "slope, intercept, r_value, p_value, std_err = linregress(price, sales)\n",
    "\n",
    "print(\"Slope:\", slope)\n",
    "print(\"Intercept:\", intercept)\n",
    "print(\"R-squared value:\", r_value**2)\n",
    "print(\"P-value:\", p_value)\n",
    "print(\"Standard error:\", std_err)\n"
   ]
  },
  {
   "cell_type": "code",
   "execution_count": 35,
   "id": "7847f7c0",
   "metadata": {},
   "outputs": [
    {
     "name": "stdout",
     "output_type": "stream",
     "text": [
      "22.5\n"
     ]
    }
   ],
   "source": [
    "# 16. Scenario: A company wants to analyze the distribution of customer ages. The data collected is as follows:\n",
    "#     [25, 30, 35, 40, 45, 50, 55, 60, 65, 70]\n",
    "#     Calculate the interquartile range (IQR) of the ages.\n",
    "import numpy as np\n",
    "\n",
    "ages = [25, 30, 35, 40, 45, 50, 55, 60, 65, 70]\n",
    "q1 = np.percentile(ages, 25)\n",
    "q3 = np.percentile(ages, 75)\n",
    "iqr = q3 - q1\n",
    "\n",
    "print( iqr)\n"
   ]
  },
  {
   "cell_type": "code",
   "execution_count": 37,
   "id": "8b1f4d21",
   "metadata": {},
   "outputs": [
    {
     "name": "stdout",
     "output_type": "stream",
     "text": [
      "Standard error of the mean satisfaction score: 0.30550504633038933\n"
     ]
    }
   ],
   "source": [
    "# 19. Scenario: A survey is conducted to measure the satisfaction levels of customers with a new product. The data collected is as follows:\n",
    "#     [7, 8, 9, 6, 8, 7, 9, 7, 8, 7]\n",
    "#     Calculate the standard error of the mean satisfaction score.\n",
    "from scipy.stats import sem\n",
    "\n",
    "satisfaction_scores = [7, 8, 9, 6, 8, 7, 9, 7, 8, 7]\n",
    "standard_error = sem(satisfaction_scores)\n",
    "\n",
    "print(\"Standard error of the mean satisfaction score:\", standard_error)\n"
   ]
  },
  {
   "cell_type": "code",
   "execution_count": null,
   "id": "87c421a6",
   "metadata": {},
   "outputs": [],
   "source": []
  }
 ],
 "metadata": {
  "kernelspec": {
   "display_name": "Python 3 (ipykernel)",
   "language": "python",
   "name": "python3"
  },
  "language_info": {
   "codemirror_mode": {
    "name": "ipython",
    "version": 3
   },
   "file_extension": ".py",
   "mimetype": "text/x-python",
   "name": "python",
   "nbconvert_exporter": "python",
   "pygments_lexer": "ipython3",
   "version": "3.10.9"
  }
 },
 "nbformat": 4,
 "nbformat_minor": 5
}
